{
 "cells": [
  {
   "cell_type": "code",
   "execution_count": 7,
   "id": "d22d39bd",
   "metadata": {},
   "outputs": [],
   "source": [
    "import numpy as np"
   ]
  },
  {
   "cell_type": "code",
   "execution_count": 9,
   "id": "4018f966",
   "metadata": {},
   "outputs": [
    {
     "name": "stdout",
     "output_type": "stream",
     "text": [
      "Manual Addition Result: [5, 7, 9]\n",
      "Numpy Addition Result: [5 7 9]\n"
     ]
    }
   ],
   "source": [
    "# np.add():\n",
    "\n",
    "def manual_addition(list1, list2):\n",
    "    \n",
    "    result = []\n",
    "    i = 0\n",
    "    for item in list1:\n",
    "        result.append(item + list2[i])\n",
    "        i += 1\n",
    "        \n",
    "    return result\n",
    "\n",
    "def numpy_addition(array1, array2):\n",
    "    return np.add(array1,array2)\n",
    "\n",
    "list1 = [1, 2, 3]\n",
    "list2 = [4, 5, 6]\n",
    "array1 = np.array(list1)\n",
    "array2 = np.array(list2)\n",
    "\n",
    "manual_result = manual_addition(list1, list2)\n",
    "numpy_result = numpy_addition(array1, array2)\n",
    "\n",
    "print(f\"Manual Addition Result: {manual_result}\")\n",
    "print(f\"Numpy Addition Result: {numpy_result}\")"
   ]
  },
  {
   "cell_type": "code",
   "execution_count": 10,
   "id": "1a490cfe",
   "metadata": {},
   "outputs": [
    {
     "name": "stdout",
     "output_type": "stream",
     "text": [
      "Manual Subtraction Result: [-3, -3, -3]\n",
      "Numpy Subtraction Result: [-3 -3 -3]\n"
     ]
    }
   ],
   "source": [
    "# np.subtract():\n",
    "\n",
    "def manual_subtraction(list1, list2):\n",
    "    \n",
    "    result = []\n",
    "    i = 0\n",
    "    for item in list1:\n",
    "        result.append(item - list2[i])\n",
    "        i += 1\n",
    "        \n",
    "    return result\n",
    "\n",
    "def numpy_subtraction(array1, array2):\n",
    "    return np.subtract(array1,array2)\n",
    "\n",
    "manual_result = manual_subtraction(list1, list2)\n",
    "numpy_result = numpy_subtraction(array1, array2)\n",
    "\n",
    "print(f\"Manual Subtraction Result: {manual_result}\")\n",
    "print(f\"Numpy Subtraction Result: {numpy_result}\")"
   ]
  },
  {
   "cell_type": "code",
   "execution_count": 11,
   "id": "716e5b23",
   "metadata": {},
   "outputs": [
    {
     "name": "stdout",
     "output_type": "stream",
     "text": [
      "Manual Multiplication Result: [4, 10, 18]\n",
      "Numpy Multiplication Result: [ 4 10 18]\n"
     ]
    }
   ],
   "source": [
    "# np.multiply():\n",
    "\n",
    "def manual_multiplication(list1, list2):\n",
    "    \n",
    "    result = []\n",
    "    i = 0\n",
    "    for item in list1:\n",
    "        result.append(item * list2[i])\n",
    "        i += 1\n",
    "        \n",
    "    return result\n",
    "\n",
    "def numpy_multiplication(array1, array2):\n",
    "    return np.multiply(array1,array2)\n",
    "\n",
    "manual_result = manual_multiplication(list1, list2)\n",
    "numpy_result = numpy_multiplication(array1, array2)\n",
    "\n",
    "print(f\"Manual Multiplication Result: {manual_result}\")\n",
    "print(f\"Numpy Multiplication Result: {numpy_result}\")"
   ]
  },
  {
   "cell_type": "code",
   "execution_count": 12,
   "id": "86e14434",
   "metadata": {},
   "outputs": [
    {
     "name": "stdout",
     "output_type": "stream",
     "text": [
      "Manual Division Result: [0.25, 0.4, 0.5]\n",
      "Numpy Division Result: [0.25 0.4  0.5 ]\n"
     ]
    }
   ],
   "source": [
    "# np.divide():\n",
    "\n",
    "def manual_division(list1, list2):\n",
    "    \n",
    "    result = []\n",
    "    i = 0\n",
    "    for item in list1:\n",
    "        result.append(item / list2[i])\n",
    "        i += 1\n",
    "\n",
    "    return result\n",
    "\n",
    "def numpy_division(array1, array2):\n",
    "    return np.divide(array1,array2)\n",
    "\n",
    "manual_result = manual_division(list1, list2)\n",
    "numpy_result = numpy_division(array1, array2)\n",
    "\n",
    "print(f\"Manual Division Result: {manual_result}\")\n",
    "print(f\"Numpy Division Result: {numpy_result}\")"
   ]
  },
  {
   "cell_type": "code",
   "execution_count": 202,
   "id": "d2524f0b",
   "metadata": {},
   "outputs": [
    {
     "name": "stdout",
     "output_type": "stream",
     "text": [
      "[1, 4, 27]\n"
     ]
    },
    {
     "data": {
      "text/plain": [
       "array([ 1,  4, 27])"
      ]
     },
     "execution_count": 202,
     "metadata": {},
     "output_type": "execute_result"
    }
   ],
   "source": [
    "# np.power():\n",
    "\n",
    "def manual_power(list1, list2):\n",
    "    result = []\n",
    "    i = 0\n",
    "    for item in list1:\n",
    "        item_copy = item\n",
    "        item = 1\n",
    "        for _ in range(list2[i]):\n",
    "            item = item * item_copy\n",
    "        i +=1\n",
    "        result.append(item)\n",
    "    return result\n",
    "\n",
    "print(manual_power([1,2,3], [2,2,3])) #========> manual answer\n",
    "np.power([1,2,3] , [2,2,3]) #===================> numpy answer"
   ]
  },
  {
   "cell_type": "code",
   "execution_count": 16,
   "id": "946c8108",
   "metadata": {},
   "outputs": [
    {
     "name": "stdout",
     "output_type": "stream",
     "text": [
      "Manual Modulo Result: [1, 2, 3]\n",
      "Numpy Modulo Result: [1 2 3]\n"
     ]
    }
   ],
   "source": [
    "# np.mod():\n",
    "\n",
    "def manual_modulo(list1, list2):\n",
    "    result = []\n",
    "    i = 0\n",
    "    for item in list1:\n",
    "        while item >= list2[i]:\n",
    "            item = item// list2[i]\n",
    "        result.append(item)\n",
    "        i += 1\n",
    "    return result\n",
    "\n",
    "def numpy_modulo(array1, array2):\n",
    "    return np.mod(array1,array2)\n",
    "\n",
    "manual_result = manual_modulo(list1, list2)\n",
    "numpy_result = numpy_modulo(array1, array2)\n",
    "\n",
    "print(f\"Manual Modulo Result: {manual_result}\")\n",
    "print(f\"Numpy Modulo Result: {numpy_result}\")"
   ]
  },
  {
   "cell_type": "code",
   "execution_count": 77,
   "id": "5b82f7d2",
   "metadata": {},
   "outputs": [
    {
     "name": "stdout",
     "output_type": "stream",
     "text": [
      "Manual Square Root Result: [1.0, 1.414213562373095, 1.7320508075688772]\n",
      "Numpy Square Root Result: [1.         1.41421356 1.73205081]\n"
     ]
    }
   ],
   "source": [
    "# np.sqrt():\n",
    "\n",
    "def manual_sqrt(list1):\n",
    "    result = []\n",
    "    import random\n",
    "    for item in list1:\n",
    "        random_number = random.uniform(1,item)\n",
    "        for _ in range(100):\n",
    "            x = item / random_number\n",
    "            y = x + random_number\n",
    "            z = y / 2\n",
    "            random_number = z\n",
    "        result.append(z)\n",
    "    return result\n",
    "\n",
    "def numpy_sqrt(array1):\n",
    "    return np.sqrt(array1)\n",
    "\n",
    "manual_result = manual_sqrt(list1)\n",
    "numpy_result = numpy_sqrt(array1)\n",
    "\n",
    "print(f\"Manual Square Root Result: {manual_result}\")\n",
    "print(f\"Numpy Square Root Result: {numpy_result}\")"
   ]
  },
  {
   "cell_type": "code",
   "execution_count": 22,
   "id": "e84bf894",
   "metadata": {},
   "outputs": [
    {
     "name": "stdout",
     "output_type": "stream",
     "text": [
      "Manual Sum Result: 6\n",
      "Numpy Sum Result: 6\n"
     ]
    }
   ],
   "source": [
    "# np.sum()\n",
    "\n",
    "def manual_sum(list1):\n",
    "    total = 0\n",
    "    for item in list1:\n",
    "        total = total + item\n",
    "    return total\n",
    "\n",
    "def numpy_sum(array1):\n",
    "    return np.sum(array1)\n",
    "\n",
    "manual_result = manual_sum(list1)\n",
    "numpy_result = numpy_sum(array1)\n",
    "\n",
    "print(f\"Manual Sum Result: {manual_result}\")\n",
    "print(f\"Numpy Sum Result: {numpy_result}\")"
   ]
  },
  {
   "cell_type": "code",
   "execution_count": 23,
   "id": "ac1f80c3",
   "metadata": {},
   "outputs": [
    {
     "name": "stdout",
     "output_type": "stream",
     "text": [
      "Manual Mean Result: 2.0\n",
      "Numpy Mean Result: 2.0\n"
     ]
    }
   ],
   "source": [
    "# np.mean():\n",
    "\n",
    "def manual_mean(list1):\n",
    "    total = 0\n",
    "    i = 0\n",
    "    for item in list1:\n",
    "        total = total + item\n",
    "        i += 1\n",
    "    return total / i\n",
    "\n",
    "def numpy_mean(array1):\n",
    "    return np.mean(array1)\n",
    "\n",
    "manual_result = manual_mean(list1)\n",
    "numpy_result = numpy_mean(array1)\n",
    "\n",
    "print(f\"Manual Mean Result: {manual_result}\")\n",
    "print(f\"Numpy Mean Result: {numpy_result}\")"
   ]
  },
  {
   "cell_type": "code",
   "execution_count": 24,
   "id": "e32c4cda",
   "metadata": {},
   "outputs": [
    {
     "name": "stdout",
     "output_type": "stream",
     "text": [
      "Manual Median Result: 2\n",
      "Numpy Median Result: 2.0\n"
     ]
    }
   ],
   "source": [
    "# np.median():\n",
    "\n",
    "def manual_median(list1):\n",
    "    # at first I'm going to calculate the length of the list without using len() function:\n",
    "    length = 0\n",
    "    for i in list1:\n",
    "        length += 1\n",
    "    \n",
    "    if length % 2 ==1:\n",
    "        median = list1[length//2]\n",
    "    else:\n",
    "        median = (list1[length/2] + list1[length/2 +1])/2\n",
    "    return median\n",
    "\n",
    "def numpy_median(array1):\n",
    "    return np.median(array1)\n",
    "\n",
    "manual_result = manual_median(list1)\n",
    "numpy_result = numpy_median(array1)\n",
    "\n",
    "print(f\"Manual Median Result: {manual_result}\")\n",
    "print(f\"Numpy Median Result: {numpy_result}\")"
   ]
  },
  {
   "cell_type": "code",
   "execution_count": 26,
   "id": "a3b28176",
   "metadata": {},
   "outputs": [
    {
     "name": "stdout",
     "output_type": "stream",
     "text": [
      "Manual Standard Deviation Result: 0.816496580927726\n",
      "Numpy Standard Deviation Result: 0.816496580927726\n"
     ]
    }
   ],
   "source": [
    "# np.std():\n",
    "\n",
    "def manual_std(list1):\n",
    "    total = 0\n",
    "    for item in list1:\n",
    "        total = total + (item - manual_mean(list1)) ** 2 # we calculated the mean before in this code and now  we use it\n",
    "    std = (total / len(list1)) ** 0.5\n",
    "    return std\n",
    "\n",
    "def numpy_std(array1):\n",
    "    return np.std(array1)\n",
    "\n",
    "manual_result = manual_std(list1)\n",
    "numpy_result = numpy_std(array1)\n",
    "\n",
    "print(f\"Manual Standard Deviation Result: {manual_result}\")\n",
    "print(f\"Numpy Standard Deviation Result: {numpy_result}\")"
   ]
  },
  {
   "cell_type": "code",
   "execution_count": 28,
   "id": "10440ee6",
   "metadata": {},
   "outputs": [
    {
     "name": "stdout",
     "output_type": "stream",
     "text": [
      "Manual Variance Result: 0.6666666666666666\n",
      "Numpy Variance Result: 0.6666666666666666\n"
     ]
    }
   ],
   "source": [
    "# np.var()\n",
    "\n",
    "def manual_variance(list1):\n",
    "    total = 0\n",
    "    for item in list1:\n",
    "        total = total + (item - manual_mean(list1)) ** 2\n",
    "    variance = (total / (len(list1)))\n",
    "    return variance\n",
    "\n",
    "def numpy_variance(array1):\n",
    "    return np.var(array1)\n",
    "\n",
    "manual_result = manual_variance(list1)\n",
    "numpy_result = numpy_variance(array1)\n",
    "\n",
    "print(f\"Manual Variance Result: {manual_result}\")\n",
    "print(f\"Numpy Variance Result: {numpy_result}\")"
   ]
  },
  {
   "cell_type": "code",
   "execution_count": 29,
   "id": "5aa9d125",
   "metadata": {},
   "outputs": [
    {
     "name": "stdout",
     "output_type": "stream",
     "text": [
      "Manual Minimum Result: 1\n",
      "Numpy Minimum Result: 1\n"
     ]
    }
   ],
   "source": [
    "# np.min():\n",
    "\n",
    "def manual_min(list1):\n",
    "    min_value = list1[0]\n",
    "    for item in list1:\n",
    "        if item < min_value:\n",
    "            min_value = item\n",
    "    return min_value\n",
    "\n",
    "def numpy_min(array1):\n",
    "    return np.min(array1)\n",
    "\n",
    "manual_result = manual_min(list1)\n",
    "numpy_result = numpy_min(array1)\n",
    "\n",
    "print(f\"Manual Minimum Result: {manual_result}\")\n",
    "print(f\"Numpy Minimum Result: {numpy_result}\")"
   ]
  },
  {
   "cell_type": "code",
   "execution_count": 31,
   "id": "580e0d76",
   "metadata": {},
   "outputs": [
    {
     "name": "stdout",
     "output_type": "stream",
     "text": [
      "Manual Maximum Result: 3\n",
      "Numpy Maximum Result: 3\n"
     ]
    }
   ],
   "source": [
    "# np.max():\n",
    "\n",
    "def manual_max(list1):\n",
    "    max_value = list1[0]\n",
    "    for item in list1:\n",
    "        if item > max_value:\n",
    "            max_value = item\n",
    "    return max_value\n",
    "\n",
    "def numpy_max(array1):\n",
    "    return np.max(array1)\n",
    "\n",
    "manual_result = manual_max(list1)\n",
    "numpy_result = numpy_max(array1)\n",
    "\n",
    "print(f\"Manual Maximum Result: {manual_result}\")\n",
    "print(f\"Numpy Maximum Result: {numpy_result}\")"
   ]
  },
  {
   "cell_type": "code",
   "execution_count": 32,
   "id": "c2de99c5",
   "metadata": {},
   "outputs": [
    {
     "name": "stdout",
     "output_type": "stream",
     "text": [
      "Manual Dot Product Result: 32\n",
      "Numpy Dot Product Result: 32\n"
     ]
    }
   ],
   "source": [
    "# np.dot():\n",
    "\n",
    "def manual_dot(list1, list2):\n",
    "    result = 0\n",
    "    i = 0\n",
    "    for item in list1:\n",
    "        result = result + item * list2[i]\n",
    "        i = i + 1\n",
    "    return result\n",
    "\n",
    "def numpy_dot(array1, array2):\n",
    "    return np.dot(array1,array2)\n",
    "\n",
    "manual_result = manual_dot(list1, list2)\n",
    "numpy_result = numpy_dot(array1, array2)\n",
    "\n",
    "print(f\"Manual Dot Product Result: {manual_result}\")\n",
    "print(f\"Numpy Dot Product Result: {numpy_result}\")"
   ]
  },
  {
   "cell_type": "code",
   "execution_count": 203,
   "id": "4088e035",
   "metadata": {},
   "outputs": [
    {
     "name": "stdout",
     "output_type": "stream",
     "text": [
      "Manual Argmin Result: 0\n",
      "Numpy Argmin Result: 1\n"
     ]
    }
   ],
   "source": [
    "def manual_argmin(list1):\n",
    "    min_index = list1[0]\n",
    "    for index in range(len(list1)):\n",
    "        if list1[index] < list1[min_index]:\n",
    "            min_index = index\n",
    "    return min_index\n",
    "\n",
    "def numpy_argmin(array1):\n",
    "    return np.argmin(array1)\n",
    "\n",
    "manual_result = manual_argmin(list1)\n",
    "numpy_result = numpy_argmin(array1)\n",
    "\n",
    "print(f\"Manual Argmin Result: {manual_result}\")\n",
    "print(f\"Numpy Argmin Result: {numpy_result}\")"
   ]
  },
  {
   "cell_type": "code",
   "execution_count": 205,
   "id": "7c724930",
   "metadata": {},
   "outputs": [
    {
     "name": "stdout",
     "output_type": "stream",
     "text": [
      "Manual Argmax Result: 2\n",
      "Numpy Argmax Result: 5\n"
     ]
    }
   ],
   "source": [
    "def manual_argmax(list1):\n",
    "    max_index = list1[0]\n",
    "    for index in range(len(list1)):\n",
    "        if list1[index] > list1[max_index]:\n",
    "            max_index = index\n",
    "    return max_index\n",
    "\n",
    "def numpy_argmax(array1):\n",
    "    return np.argmax(array1)\n",
    "\n",
    "manual_result = manual_argmax(list1)\n",
    "numpy_result = numpy_argmax(array1)\n",
    "\n",
    "print(f\"Manual Argmax Result: {manual_result}\")\n",
    "print(f\"Numpy Argmax Result: {numpy_result}\")"
   ]
  },
  {
   "cell_type": "code",
   "execution_count": 85,
   "id": "b91cda7b",
   "metadata": {},
   "outputs": [
    {
     "name": "stdout",
     "output_type": "stream",
     "text": [
      "Manual Cross Product Result: [-3, 6, -3]\n",
      "Numpy Cross Product Result: [-3  6 -3]\n"
     ]
    }
   ],
   "source": [
    "def manual_cross(list1, list2):\n",
    "    result = [list1[1]*list2[2]-list1[2]*list2[1], \n",
    "              -(list1[0]*list2[2]-list1[2]*list2[0]),\n",
    "              list1[0]*list2[1]-list1[1]*list2[0]]\n",
    "    return result\n",
    "\n",
    "def numpy_cross(array1, array2):\n",
    "    return np.cross(array1, array2)\n",
    "\n",
    "list1 = [1, 2, 3]\n",
    "list2 = [4, 5, 6]\n",
    "array1 = np.array(list1)\n",
    "array2 = np.array(list2)\n",
    "\n",
    "manual_result = manual_cross(list1, list2)\n",
    "numpy_result = numpy_cross(array1, array2)\n",
    "\n",
    "print(f\"Manual Cross Product Result: {manual_result}\")\n",
    "print(f\"Numpy Cross Product Result: {numpy_result}\")"
   ]
  },
  {
   "cell_type": "code",
   "execution_count": 92,
   "id": "b824d923",
   "metadata": {},
   "outputs": [
    {
     "name": "stdout",
     "output_type": "stream",
     "text": [
      "Manual Sort Result: [1, 1, 3, 4, 5, 9]\n",
      "Numpy Sort Result: [1 1 3 4 5 9]\n"
     ]
    }
   ],
   "source": [
    "def manual_sort(list1):\n",
    "    sorted_list = []\n",
    "    for _ in range(len(list1)):\n",
    "        min_val = manual_min(list1)\n",
    "        sorted_list.append(min_val)\n",
    "        list1.remove(min_val)\n",
    "    return sorted_list\n",
    "\n",
    "def numpy_sort(array1):\n",
    "    return np.sort(array1)\n",
    "\n",
    "list1 = [3, 1, 4, 1, 5, 9]\n",
    "array1 = np.array(list1)\n",
    "\n",
    "manual_result = manual_sort(list1)\n",
    "numpy_result = numpy_sort(array1)\n",
    "\n",
    "print(f\"Manual Sort Result: {manual_result}\")\n",
    "print(f\"Numpy Sort Result: {numpy_result}\")"
   ]
  },
  {
   "cell_type": "code",
   "execution_count": 112,
   "id": "896531a7",
   "metadata": {},
   "outputs": [
    {
     "name": "stdout",
     "output_type": "stream",
     "text": [
      "Manual Concatenate Result: 1\n",
      "Numpy Concatenate Result: [3 1 4 1 5 9 4 5 6]\n"
     ]
    }
   ],
   "source": [
    "def manual_concatenate(list1, list2):\n",
    "    \n",
    "    return 1\n",
    "\n",
    "def numpy_concatenate(array1, array2):\n",
    "    return np.concatenate((array1, array2), axis=0)\n",
    "\n",
    "list1 = [1,2,3]\n",
    "\n",
    "manual_result = manual_concatenate(list1, list2)\n",
    "numpy_result = numpy_concatenate(array1, array2)\n",
    "\n",
    "print(f\"Manual Concatenate Result: {manual_result}\")\n",
    "print(f\"Numpy Concatenate Result: {numpy_result}\")\n",
    "\n",
    "np.concatenate?"
   ]
  },
  {
   "cell_type": "code",
   "execution_count": 118,
   "id": "724b2024",
   "metadata": {},
   "outputs": [],
   "source": [
    "sales_data = [\n",
    "    {\"product\": \"A\", \"region\": \"North\", \"units_sold\": 150, \"unit_price\": 10.0},\n",
    "    {\"product\": \"B\", \"region\": \"South\", \"units_sold\": 200, \"unit_price\": 20.0},\n",
    "    {\"product\": \"C\", \"region\": \"East\", \"units_sold\": 300, \"unit_price\": 15.0},\n",
    "    {\"product\": \"A\", \"region\": \"West\", \"units_sold\": 130, \"unit_price\": 10.0},\n",
    "    {\"product\": \"B\", \"region\": \"North\", \"units_sold\": 120, \"unit_price\": 20.0},\n",
    "    {\"product\": \"C\", \"region\": \"South\", \"units_sold\": 250, \"unit_price\": 15.0},\n",
    "    {\"product\": \"A\", \"region\": \"East\", \"units_sold\": 170, \"unit_price\": 10.0},\n",
    "    {\"product\": \"B\", \"region\": \"West\", \"units_sold\": 180, \"unit_price\": 20.0},\n",
    "    {\"product\": \"C\", \"region\": \"North\", \"units_sold\": 310, \"unit_price\": 15.0},\n",
    "    {\"product\": \"A\", \"region\": \"South\", \"units_sold\": 160, \"unit_price\": 10.0},\n",
    "    {\"product\": \"B\", \"region\": \"East\", \"units_sold\": 190, \"unit_price\": 20.0},\n",
    "    {\"product\": \"C\", \"region\": \"West\", \"units_sold\": 280, \"unit_price\": 15.0},\n",
    "]\n"
   ]
  },
  {
   "cell_type": "code",
   "execution_count": 125,
   "id": "75adef37",
   "metadata": {},
   "outputs": [
    {
     "name": "stdout",
     "output_type": "stream",
     "text": [
      "Total Revenue (Manual): {'A': 6100.0, 'B': 13800.0, 'C': 17100.0}\n"
     ]
    }
   ],
   "source": [
    "### Task 1\n",
    "\n",
    "# Calculate Total Revenue per Product:\n",
    "\n",
    "# Implement a function to calculate the total revenue for each product.\n",
    "\n",
    "revenue_dict = {\"A\":0 , \"B\":0 , \"C\":0}\n",
    "def manual_total_revenue(sales_data):\n",
    "    for item in sales_data:\n",
    "        revenue_dict[item[\"product\"]] += item[\"units_sold\"] * item[\"unit_price\"]\n",
    "    return revenue_dict\n",
    "\n",
    "total_revenue_manual = manual_total_revenue(sales_data)\n",
    "print(f\"Total Revenue (Manual): {total_revenue_manual}\")"
   ]
  },
  {
   "cell_type": "code",
   "execution_count": 160,
   "id": "eada4034",
   "metadata": {},
   "outputs": [
    {
     "name": "stdout",
     "output_type": "stream",
     "text": [
      "Average Units Sold per Region (Manual): {'North': 145.0, 'South': 152.5, 'East': 165.0, 'West': 147.5}\n"
     ]
    }
   ],
   "source": [
    "### Task 2\n",
    "\n",
    "# Find the Average Units Sold per Region:\n",
    "\n",
    "# Implement a function to compute the average units sold in each region.\n",
    "\n",
    "region_dict = {\"North\":0 , \"South\":0 , \"East\":0 , \"West\":0}\n",
    "\n",
    "\n",
    "def manual_average_units_sold(sales_data):\n",
    "    for item in sales_data:\n",
    "        region_dict[item[\"region\"]] += item[\"units_sold\"]/4\n",
    "    return region_dict\n",
    "\n",
    "average_units_sold_manual = manual_average_units_sold(sales_data)\n",
    "print(f\"Average Units Sold per Region (Manual): {average_units_sold_manual}\")"
   ]
  },
  {
   "cell_type": "code",
   "execution_count": 193,
   "id": "2e30324f",
   "metadata": {},
   "outputs": [
    {
     "name": "stdout",
     "output_type": "stream",
     "text": [
      "Product with the Highest Sales = C : 1140\n"
     ]
    }
   ],
   "source": [
    "### Task 3\n",
    "\n",
    "#Identify the Product with the Highest Sales:\n",
    "\n",
    "#Implement a function to determine which product has the highest total units sold.\n",
    "\n",
    "def manual_highest_sales_product(sales_data):\n",
    "    product_dict = {\"A\":0 , \"B\":0 , \"C\":0}\n",
    "    for item in sales_data:\n",
    "        product_dict[item[\"product\"]] += item[\"units_sold\"]\n",
    "        \n",
    "    max_sold=max(product_dict.values())\n",
    "    for key , value in product_dict.items():\n",
    "        if value == max_sold:\n",
    "            print('Product with the Highest Sales = {}'.format(key) , \":\" , max_sold)\n",
    "          \n",
    "highest_sales_product_manual = manual_highest_sales_product(sales_data)\n",
    "\n",
    "\n"
   ]
  },
  {
   "cell_type": "code",
   "execution_count": 200,
   "id": "9a9f047e",
   "metadata": {},
   "outputs": [
    {
     "ename": "TypeError",
     "evalue": "'numpy.float64' object is not iterable",
     "output_type": "error",
     "traceback": [
      "\u001b[1;31m---------------------------------------------------------------------------\u001b[0m",
      "\u001b[1;31mTypeError\u001b[0m                                 Traceback (most recent call last)",
      "Cell \u001b[1;32mIn[200], line 17\u001b[0m\n\u001b[0;32m     14\u001b[0m         std_dict[item[\u001b[38;5;124m\"\u001b[39m\u001b[38;5;124mproduct\u001b[39m\u001b[38;5;124m\"\u001b[39m]] \u001b[38;5;241m=\u001b[39m sqrt(\u001b[38;5;28msum\u001b[39m(item[\u001b[38;5;124m\"\u001b[39m\u001b[38;5;124munits_sold\u001b[39m\u001b[38;5;124m\"\u001b[39m] \u001b[38;5;241m-\u001b[39m np\u001b[38;5;241m.\u001b[39mmean(item[\u001b[38;5;124m\"\u001b[39m\u001b[38;5;124munits_sold\u001b[39m\u001b[38;5;124m\"\u001b[39m])\u001b[38;5;241m*\u001b[39m\u001b[38;5;241m*\u001b[39m\u001b[38;5;241m2\u001b[39m)\u001b[38;5;241m/\u001b[39m\u001b[38;5;241m4\u001b[39m)\n\u001b[0;32m     15\u001b[0m     \u001b[38;5;28;01mreturn\u001b[39;00m std_dict\n\u001b[1;32m---> 17\u001b[0m std_units_sold_manual \u001b[38;5;241m=\u001b[39m \u001b[43mmanual_std_units_sold\u001b[49m\u001b[43m(\u001b[49m\u001b[43msales_data\u001b[49m\u001b[43m)\u001b[49m\n\u001b[0;32m     18\u001b[0m \u001b[38;5;28mprint\u001b[39m(\u001b[38;5;124mf\u001b[39m\u001b[38;5;124m\"\u001b[39m\u001b[38;5;124mStandard Deviation of Units Sold per Product (Manual): \u001b[39m\u001b[38;5;132;01m{\u001b[39;00mstd_units_sold_manual\u001b[38;5;132;01m}\u001b[39;00m\u001b[38;5;124m\"\u001b[39m)\n",
      "Cell \u001b[1;32mIn[200], line 14\u001b[0m, in \u001b[0;36mmanual_std_units_sold\u001b[1;34m(sales_data)\u001b[0m\n\u001b[0;32m     11\u001b[0m \u001b[38;5;28;01mdef\u001b[39;00m \u001b[38;5;21mmanual_std_units_sold\u001b[39m(sales_data):\n\u001b[0;32m     13\u001b[0m     \u001b[38;5;28;01mfor\u001b[39;00m item \u001b[38;5;129;01min\u001b[39;00m sales_data:\n\u001b[1;32m---> 14\u001b[0m         std_dict[item[\u001b[38;5;124m\"\u001b[39m\u001b[38;5;124mproduct\u001b[39m\u001b[38;5;124m\"\u001b[39m]] \u001b[38;5;241m=\u001b[39m sqrt(\u001b[38;5;28;43msum\u001b[39;49m\u001b[43m(\u001b[49m\u001b[43mitem\u001b[49m\u001b[43m[\u001b[49m\u001b[38;5;124;43m\"\u001b[39;49m\u001b[38;5;124;43munits_sold\u001b[39;49m\u001b[38;5;124;43m\"\u001b[39;49m\u001b[43m]\u001b[49m\u001b[43m \u001b[49m\u001b[38;5;241;43m-\u001b[39;49m\u001b[43m \u001b[49m\u001b[43mnp\u001b[49m\u001b[38;5;241;43m.\u001b[39;49m\u001b[43mmean\u001b[49m\u001b[43m(\u001b[49m\u001b[43mitem\u001b[49m\u001b[43m[\u001b[49m\u001b[38;5;124;43m\"\u001b[39;49m\u001b[38;5;124;43munits_sold\u001b[39;49m\u001b[38;5;124;43m\"\u001b[39;49m\u001b[43m]\u001b[49m\u001b[43m)\u001b[49m\u001b[38;5;241;43m*\u001b[39;49m\u001b[38;5;241;43m*\u001b[39;49m\u001b[38;5;241;43m2\u001b[39;49m\u001b[43m)\u001b[49m\u001b[38;5;241m/\u001b[39m\u001b[38;5;241m4\u001b[39m)\n\u001b[0;32m     15\u001b[0m     \u001b[38;5;28;01mreturn\u001b[39;00m std_dict\n",
      "\u001b[1;31mTypeError\u001b[0m: 'numpy.float64' object is not iterable"
     ]
    }
   ],
   "source": [
    "### Task 4\n",
    "\n",
    "# Calculate the Standard Deviation of Units Sold per Product:\n",
    "\n",
    "# Implement a function to compute the standard deviation of units sold for each product.\n",
    "import numpy as np\n",
    "from math import sqrt\n",
    "\n",
    "std_dict = {\"A\":0 , \"B\":0 , \"C\":0}\n",
    "\n",
    "def manual_std_units_sold(sales_data):\n",
    "    \n",
    "    for item in sales_data:\n",
    "        std_dict[item[\"product\"]] = sqrt(sum(item[\"units_sold\"] - np.mean(item[\"units_sold\"])**2)/4)\n",
    "    return std_dict\n",
    "\n",
    "std_units_sold_manual = manual_std_units_sold(sales_data)\n",
    "print(f\"Standard Deviation of Units Sold per Product (Manual): {std_units_sold_manual}\")"
   ]
  },
  {
   "cell_type": "code",
   "execution_count": 145,
   "id": "10a17d98",
   "metadata": {},
   "outputs": [
    {
     "name": "stdout",
     "output_type": "stream",
     "text": [
      "Products Sorted by Total Revenue (Manual): [6100.0, 13800.0, 17100.0]\n"
     ]
    }
   ],
   "source": [
    "### Task 5\n",
    "\n",
    "#Sort the Products by Total Revenue:\n",
    "\n",
    "#Implement a function to sort the products based on their total revenue in descending order.\n",
    "\n",
    "\n",
    "def manual_sort_products_by_revenue(sales_data):\n",
    "    list_of_revenues = (manual_sort(list(revenue_dict.values())))\n",
    "    return list_of_revenues\n",
    "\n",
    "sorted_products_manual = manual_sort_products_by_revenue(sales_data)\n",
    "print(f\"Products Sorted by Total Revenue (Manual): {sorted_products_manual}\")"
   ]
  },
  {
   "cell_type": "code",
   "execution_count": null,
   "id": "3bfb2dcd",
   "metadata": {},
   "outputs": [],
   "source": []
  }
 ],
 "metadata": {
  "kernelspec": {
   "display_name": "Python 3 (ipykernel)",
   "language": "python",
   "name": "python3"
  },
  "language_info": {
   "codemirror_mode": {
    "name": "ipython",
    "version": 3
   },
   "file_extension": ".py",
   "mimetype": "text/x-python",
   "name": "python",
   "nbconvert_exporter": "python",
   "pygments_lexer": "ipython3",
   "version": "3.10.9"
  }
 },
 "nbformat": 4,
 "nbformat_minor": 5
}
